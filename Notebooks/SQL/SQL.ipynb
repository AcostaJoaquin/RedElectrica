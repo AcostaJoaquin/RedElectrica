{
 "cells": [
  {
   "cell_type": "code",
   "execution_count": 23,
   "metadata": {},
   "outputs": [],
   "source": [
    "import pandas as pd\n",
    "import mysql.connector\n",
    "import configparser\n"
   ]
  },
  {
   "cell_type": "markdown",
   "metadata": {},
   "source": [
    "<h2>RESET BASE DE DATOS</h2>"
   ]
  },
  {
   "cell_type": "code",
   "execution_count": 24,
   "metadata": {},
   "outputs": [
    {
     "name": "stdout",
     "output_type": "stream",
     "text": [
      "Base de datos red_electrica eliminada con éxito si existía.\n"
     ]
    }
   ],
   "source": [
    "# Leer el archivo de configuración\n",
    "config = configparser.ConfigParser()\n",
    "config.read('config.ini')\n",
    "\n",
    "# Obtener los valores del archivo de configuración\n",
    "host = config['mysql']['host']\n",
    "user = config['mysql']['user']\n",
    "password = config['mysql']['password']\n",
    "\n",
    "conn = mysql.connector.connect(\n",
    "    host=host,\n",
    "    user=user,\n",
    "    password=password\n",
    ")\n",
    "\n",
    "cursor = conn.cursor()\n",
    "\n",
    "cursor.execute(\"CREATE DATABASE IF NOT EXISTS red_electrica\")\n",
    "\n",
    "conn.commit()\n",
    "\n",
    "conn.close()\n",
    "\n",
    "print(\"Base de datos red_electrica eliminada con éxito si existía.\")"
   ]
  },
  {
   "cell_type": "markdown",
   "metadata": {},
   "source": [
    "<h2>TABLA DE BALANCE</h2>"
   ]
  },
  {
   "cell_type": "code",
   "execution_count": 25,
   "metadata": {},
   "outputs": [
    {
     "name": "stdout",
     "output_type": "stream",
     "text": [
      "Tabla 'balance' creada con éxito.\n"
     ]
    }
   ],
   "source": [
    "# Conectar a la base de datos\n",
    "conn = mysql.connector.connect(\n",
    "    host=host,\n",
    "    user=user,\n",
    "    password=password\n",
    ")\n",
    "\n",
    "# Crear cursor\n",
    "cursor = conn.cursor()\n",
    "\n",
    "# Usar la base de datos\n",
    "cursor.execute(\"USE red_electrica\")\n",
    "\n",
    "# Crear tabla\n",
    "cursor.execute(\"\"\"\n",
    "    CREATE TABLE IF NOT EXISTS balance (\n",
    "        id INT AUTO_INCREMENT PRIMARY KEY,\n",
    "        nombre VARCHAR(50) NOT NULL,\n",
    "        tipo_energia VARCHAR(50) NOT NULL,\n",
    "        valores FLOAT NOT NULL,\n",
    "        porcentaje FLOAT NOT NULL,\n",
    "        fecha_actualizacion DATE NOT NULL\n",
    "    )\n",
    "\"\"\")\n",
    "\n",
    "# Confirmar cambios\n",
    "conn.commit()\n",
    "\n",
    "# Cerrar conexión\n",
    "cursor.close()\n",
    "conn.close()\n",
    "\n",
    "print(\"Tabla 'balance' creada con éxito.\")\n"
   ]
  },
  {
   "cell_type": "markdown",
   "metadata": {},
   "source": [
    "<h3>CARGAR BALANCE</h3>"
   ]
  },
  {
   "cell_type": "code",
   "execution_count": 26,
   "metadata": {},
   "outputs": [
    {
     "name": "stdout",
     "output_type": "stream",
     "text": [
      "Datos insertados o actualizados en la tabla 'balance' con éxito.\n"
     ]
    }
   ],
   "source": [
    "import pandas as pd\n",
    "import mysql.connector\n",
    "\n",
    "# Cargar el CSV con la interpretación correcta de las fechas\n",
    "df = pd.read_csv('../Obtencion datos/balance_electrico.csv', sep=',', \n",
    "                 parse_dates=['Fecha actualización'], dayfirst=True)\n",
    "\n",
    "# Crear una columna 'id' usando el índice del DataFrame\n",
    "df['id'] = df.index + 1  # Genera un id único basado en el índice\n",
    "\n",
    "# Renombrar columnas si es necesario\n",
    "df.rename(columns={'tipo de energía': 'tipo_energia'}, inplace=True)\n",
    "\n",
    "# Conectar a la base de datos\n",
    "conn = mysql.connector.connect(\n",
    "    host=host,\n",
    "    user=user,\n",
    "    password=password,\n",
    "    database='red_electrica'\n",
    ")\n",
    "\n",
    "# Crear cursor\n",
    "cursor = conn.cursor()\n",
    "\n",
    "# Insertar o actualizar datos en la tabla usando el id\n",
    "for index, row in df.iterrows():\n",
    "    cursor.execute(\"\"\" \n",
    "        INSERT INTO balance (id, nombre, tipo_energia, valores, porcentaje, fecha_actualizacion)\n",
    "        VALUES (%s, %s, %s, %s, %s, %s)\n",
    "        ON DUPLICATE KEY UPDATE\n",
    "        nombre = VALUES(nombre),\n",
    "        tipo_energia = VALUES(tipo_energia),\n",
    "        valores = VALUES(valores),\n",
    "        porcentaje = VALUES(porcentaje),\n",
    "        fecha_actualizacion = VALUES(fecha_actualizacion)\n",
    "    \"\"\", (row['id'], row['nombre'], row['tipo_energia'], row['Valores'], row['Porcentaje'], row['Fecha actualización']))\n",
    "\n",
    "# Confirmar los cambios\n",
    "conn.commit()\n",
    "\n",
    "# Cerrar conexión\n",
    "cursor.close()\n",
    "conn.close()\n",
    "\n",
    "print(\"Datos insertados o actualizados en la tabla 'balance' con éxito.\")\n"
   ]
  },
  {
   "cell_type": "markdown",
   "metadata": {},
   "source": [
    "<h2>TABLA DEMANDA</h2>"
   ]
  },
  {
   "cell_type": "code",
   "execution_count": 27,
   "metadata": {},
   "outputs": [
    {
     "name": "stdout",
     "output_type": "stream",
     "text": [
      "Tabla 'demanda' creada con éxito.\n"
     ]
    }
   ],
   "source": [
    "# Conectar a la base de datos\n",
    "conn = mysql.connector.connect(\n",
    "    host=host,\n",
    "    user=user,\n",
    "    password=password\n",
    ")\n",
    "\n",
    "# Crear cursor\n",
    "cursor = conn.cursor()\n",
    "\n",
    "# Usar la base de datos\n",
    "cursor.execute(\"USE red_electrica\")\n",
    "\n",
    "# Crear tabla\n",
    "cursor.execute(\"\"\"\n",
    "    CREATE TABLE IF NOT EXISTS demanda (\n",
    "        id INT AUTO_INCREMENT PRIMARY KEY,\n",
    "        fecha DATE NOT NULL,\n",
    "        valor FLOAT NOT NULL\n",
    "    )\n",
    "\"\"\")\n",
    "\n",
    "# Confirmar cambios\n",
    "conn.commit()\n",
    "\n",
    "# Cerrar conexión\n",
    "cursor.close()\n",
    "conn.close()\n",
    "\n",
    "print(\"Tabla 'demanda' creada con éxito.\")\n"
   ]
  },
  {
   "cell_type": "markdown",
   "metadata": {},
   "source": [
    "<h3>CARGAR DEMANDA</h3>"
   ]
  },
  {
   "cell_type": "code",
   "execution_count": 28,
   "metadata": {},
   "outputs": [
    {
     "name": "stdout",
     "output_type": "stream",
     "text": [
      "Datos insertados o actualizados en la tabla 'demanda' con éxito.\n"
     ]
    }
   ],
   "source": [
    "import pandas as pd\n",
    "import mysql.connector\n",
    "import configparser\n",
    "\n",
    "# Leer el archivo de configuración\n",
    "config = configparser.ConfigParser()\n",
    "config.read('config.ini')\n",
    "\n",
    "# Obtener los valores del archivo de configuración\n",
    "host = config['mysql']['host']\n",
    "user = config['mysql']['user']\n",
    "password = config['mysql']['password']\n",
    "\n",
    "# Cargar el CSV y mostrar las primeras filas para depuración\n",
    "try:\n",
    "    df_raw = pd.read_csv('../Obtencion datos/demanda_evolucion.csv', sep=',')\n",
    "except FileNotFoundError as e:\n",
    "    print(f\"Error: {e}\")\n",
    "    exit()\n",
    "\n",
    "# Asegurarse de que la columna 'Fecha actualización' existe antes de parsearla\n",
    "if 'Fecha actualización' not in df_raw.columns:\n",
    "    print(\"Error: La columna 'Fecha actualización' no existe en el CSV.\")\n",
    "    exit()\n",
    "\n",
    "# Cargar el CSV con el nombre correcto de la columna para la fecha\n",
    "df = pd.read_csv('../Obtencion datos/demanda_evolucion.csv', sep=',', \n",
    "                 parse_dates=['Fecha actualización'], \n",
    "                 dayfirst=True)\n",
    "\n",
    "df.rename(columns={'Fecha actualización': 'fecha', 'Energia_consumida': 'valor'}, inplace=True)\n",
    "\n",
    "\n",
    "# Crear una columna 'id' usando el índice del DataFrame\n",
    "df['id'] = df.index + 1 \n",
    "\n",
    "\n",
    "try:\n",
    "    conn = mysql.connector.connect(\n",
    "        host=host,\n",
    "        user=user,\n",
    "        password=password,\n",
    "        database='red_electrica'\n",
    "    )\n",
    "\n",
    "    with conn.cursor() as cursor:\n",
    "        # Insertar o actualizar datos en la tabla usando el id como clave única\n",
    "        for index, row in df.iterrows():\n",
    "            cursor.execute(\"\"\" \n",
    "                INSERT INTO demanda (id, fecha, valor)\n",
    "                VALUES (%s, %s, %s)\n",
    "                ON DUPLICATE KEY UPDATE\n",
    "                fecha = VALUES(fecha),\n",
    "                valor = VALUES(valor)\n",
    "            \"\"\", (row['id'], row['fecha'], row['valor']))\n",
    "\n",
    "    # Confirmar los cambios\n",
    "    conn.commit()\n",
    "\n",
    "except mysql.connector.Error as err:\n",
    "    print(f\"Error: {err}\")\n",
    "finally:\n",
    "    if conn.is_connected():\n",
    "        conn.close()\n",
    "\n",
    "print(\"Datos insertados o actualizados en la tabla 'demanda' con éxito.\")\n"
   ]
  },
  {
   "cell_type": "markdown",
   "metadata": {},
   "source": [
    "<h2>TABLA GENERACIÓN</h2>"
   ]
  },
  {
   "cell_type": "code",
   "execution_count": 29,
   "metadata": {},
   "outputs": [
    {
     "name": "stdout",
     "output_type": "stream",
     "text": [
      "Tabla 'generacion' creada con éxito.\n"
     ]
    }
   ],
   "source": [
    "import mysql.connector\n",
    "import configparser\n",
    "\n",
    "# Leer el archivo de configuración\n",
    "config = configparser.ConfigParser()\n",
    "config.read('config.ini')\n",
    "\n",
    "# Obtener los valores del archivo de configuración\n",
    "host = config['mysql']['host']\n",
    "user = config['mysql']['user']\n",
    "password = config['mysql']['password']\n",
    "\n",
    "# Conectar a la base de datos\n",
    "conn = mysql.connector.connect(\n",
    "    host=host,\n",
    "    user=user,\n",
    "    password=password\n",
    ")\n",
    "\n",
    "# Crear cursor\n",
    "cursor = conn.cursor()\n",
    "\n",
    "# Usar la base de datos\n",
    "cursor.execute(\"USE red_electrica\")\n",
    "\n",
    "# Crear tabla\n",
    "cursor.execute(\"\"\"\n",
    "    CREATE TABLE IF NOT EXISTS generacion (\n",
    "        id INT AUTO_INCREMENT PRIMARY KEY,\n",
    "        nombre VARCHAR(50) NOT NULL,\n",
    "        tipo_energia VARCHAR(50) NOT NULL,\n",
    "        valores FLOAT NOT NULL,\n",
    "        porcentaje FLOAT NOT NULL,\n",
    "        fecha_actualizacion DATE NOT NULL\n",
    "    )\n",
    "\"\"\")\n",
    "\n",
    "# Confirmar cambios\n",
    "conn.commit()\n",
    "\n",
    "# Cerrar conexión\n",
    "cursor.close()\n",
    "conn.close()\n",
    "\n",
    "print(\"Tabla 'generacion' creada con éxito.\")\n"
   ]
  },
  {
   "cell_type": "markdown",
   "metadata": {},
   "source": [
    "<h3>CARGAR GENERACION</h3>"
   ]
  },
  {
   "cell_type": "code",
   "execution_count": 30,
   "metadata": {},
   "outputs": [
    {
     "name": "stdout",
     "output_type": "stream",
     "text": [
      "Datos insertados o actualizados en la tabla 'generacion' con éxito.\n"
     ]
    }
   ],
   "source": [
    "import pandas as pd\n",
    "import mysql.connector\n",
    "import configparser\n",
    "\n",
    "# Leer el archivo de configuración\n",
    "config = configparser.ConfigParser()\n",
    "config.read('config.ini')\n",
    "\n",
    "# Obtener los valores del archivo de configuración\n",
    "host = config['mysql']['host']\n",
    "user = config['mysql']['user']\n",
    "password = config['mysql']['password']\n",
    "\n",
    "# Cargar el CSV sin el parser de fecha\n",
    "df = pd.read_csv('../Obtencion datos/generacion_estructura.csv', sep=',')\n",
    "\n",
    "# Convertir la columna 'Fecha actualización' a formato de fecha\n",
    "df['Fecha actualización'] = pd.to_datetime(df['Fecha actualización'], format='%d/%m/%Y')\n",
    "\n",
    "# Renombrar las columnas para que coincidan con la estructura de la tabla\n",
    "df.rename(columns={\n",
    "    'tipo de energía': 'tipo_energia', \n",
    "    'Valores': 'valores', \n",
    "    'Porcentaje': 'porcentaje', \n",
    "    'Fecha actualización': 'fecha_actualizacion'\n",
    "}, inplace=True)\n",
    "\n",
    "# Crear una columna 'id' usando el índice del DataFrame\n",
    "df['id'] = df.index + 1  # Genera un id único basado en el índice\n",
    "\n",
    "# Conectar a la base de datos\n",
    "conn = mysql.connector.connect(\n",
    "    host=host,\n",
    "    user=user,\n",
    "    password=password,\n",
    "    database='red_electrica'\n",
    ")\n",
    "\n",
    "# Crear cursor\n",
    "cursor = conn.cursor()\n",
    "\n",
    "# Insertar o actualizar datos en la tabla usando el id como clave única\n",
    "for index, row in df.iterrows():\n",
    "    cursor.execute(\"\"\"\n",
    "        INSERT INTO generacion (id, nombre, tipo_energia, valores, porcentaje, fecha_actualizacion)\n",
    "        VALUES (%s, %s, %s, %s, %s, %s)\n",
    "        ON DUPLICATE KEY UPDATE\n",
    "        nombre = VALUES(nombre),\n",
    "        tipo_energia = VALUES(tipo_energia),\n",
    "        valores = VALUES(valores),\n",
    "        porcentaje = VALUES(porcentaje),\n",
    "        fecha_actualizacion = VALUES(fecha_actualizacion)\n",
    "    \"\"\", (row['id'], row['nombre'], row['tipo_energia'], row['valores'], row['porcentaje'], row['fecha_actualizacion']))\n",
    "\n",
    "# Confirmar los cambios\n",
    "conn.commit()\n",
    "\n",
    "# Cerrar conexión\n",
    "cursor.close()\n",
    "conn.close()\n",
    "\n",
    "print(\"Datos insertados o actualizados en la tabla 'generacion' con éxito.\")\n"
   ]
  },
  {
   "cell_type": "markdown",
   "metadata": {},
   "source": [
    "<h2>TABLA INTERCAMBIO</h2>"
   ]
  },
  {
   "cell_type": "code",
   "execution_count": 31,
   "metadata": {},
   "outputs": [
    {
     "name": "stdout",
     "output_type": "stream",
     "text": [
      "Tabla 'intercambio' creada con éxito.\n"
     ]
    }
   ],
   "source": [
    "import mysql.connector\n",
    "import configparser\n",
    "\n",
    "# Leer el archivo de configuración\n",
    "config = configparser.ConfigParser()\n",
    "config.read('config.ini')\n",
    "\n",
    "# Obtener los valores del archivo de configuración\n",
    "host = config['mysql']['host']\n",
    "user = config['mysql']['user']\n",
    "password = config['mysql']['password']\n",
    "\n",
    "# Conectar a la base de datos\n",
    "conn = mysql.connector.connect(\n",
    "    host=host,\n",
    "    user=user,\n",
    "    password=password\n",
    ")\n",
    "\n",
    "# Crear cursor\n",
    "cursor = conn.cursor()\n",
    "\n",
    "# Usar la base de datos\n",
    "cursor.execute(\"USE red_electrica\")\n",
    "\n",
    "# Crear tabla\n",
    "cursor.execute(\"\"\"\n",
    "    CREATE TABLE IF NOT EXISTS intercambio (\n",
    "        id INT AUTO_INCREMENT PRIMARY KEY,\n",
    "        nombre VARCHAR(50) NOT NULL,\n",
    "        tipo_intercambio VARCHAR(50) NOT NULL,\n",
    "        valores FLOAT NOT NULL,\n",
    "        porcentaje FLOAT NOT NULL,\n",
    "        fecha_actualizacion DATE NOT NULL\n",
    "    )\n",
    "\"\"\")\n",
    "\n",
    "# Confirmar cambios\n",
    "conn.commit()\n",
    "\n",
    "# Cerrar conexión\n",
    "cursor.close()\n",
    "conn.close()\n",
    "\n",
    "print(\"Tabla 'intercambio' creada con éxito.\")\n"
   ]
  },
  {
   "cell_type": "markdown",
   "metadata": {},
   "source": [
    "<h3>CARGAR INTERCAMBIO</h3>"
   ]
  },
  {
   "cell_type": "code",
   "execution_count": 32,
   "metadata": {},
   "outputs": [
    {
     "name": "stderr",
     "output_type": "stream",
     "text": [
      "C:\\Users\\SAPASHO\\AppData\\Local\\Temp\\ipykernel_9336\\3277607746.py:18: FutureWarning: The argument 'date_parser' is deprecated and will be removed in a future version. Please use 'date_format' instead, or read your data in as 'object' dtype and then call 'to_datetime'.\n",
      "  df = pd.read_csv('../Obtencion datos/intercambio_electrico.csv', sep=',', parse_dates=['Fecha actualización'], date_parser=date_parser)\n"
     ]
    },
    {
     "name": "stdout",
     "output_type": "stream",
     "text": [
      "Datos insertados o actualizados en la tabla 'intercambio' con éxito.\n"
     ]
    }
   ],
   "source": [
    "import pandas as pd\n",
    "import mysql.connector\n",
    "import configparser\n",
    "\n",
    "# Leer el archivo de configuración\n",
    "config = configparser.ConfigParser()\n",
    "config.read('config.ini')\n",
    "\n",
    "# Obtener los valores del archivo de configuración\n",
    "host = config['mysql']['host']\n",
    "user = config['mysql']['user']\n",
    "password = config['mysql']['password']\n",
    "\n",
    "# Definir un parser para las fechas\n",
    "date_parser = lambda x: pd.to_datetime(x, format='%d/%m/%Y')  # Cambia el formato si es necesario\n",
    "\n",
    "# Cargar el CSV\n",
    "df = pd.read_csv('../Obtencion datos/intercambio_electrico.csv', sep=',', parse_dates=['Fecha actualización'], date_parser=date_parser)\n",
    "\n",
    "# Renombrar las columnas para que coincidan con la estructura de la tabla\n",
    "df.rename(columns={\n",
    "    'tipo de intercambio': 'tipo_intercambio', \n",
    "    'Valores': 'valores', \n",
    "    'Porcentaje': 'porcentaje', \n",
    "    'Fecha actualización': 'fecha_actualizacion'\n",
    "}, inplace=True)\n",
    "\n",
    "# Crear una columna 'id' usando el índice del DataFrame\n",
    "df['id'] = df.index + 1  # Genera un id único basado en el índice\n",
    "\n",
    "# Conectar a la base de datos\n",
    "conn = mysql.connector.connect(\n",
    "    host=host,\n",
    "    user=user,\n",
    "    password=password,\n",
    "    database='red_electrica'\n",
    ")\n",
    "\n",
    "# Crear cursor\n",
    "cursor = conn.cursor()\n",
    "\n",
    "# Insertar o actualizar datos en la tabla usando el id como clave única\n",
    "for index, row in df.iterrows():\n",
    "    cursor.execute(\"\"\"\n",
    "        INSERT INTO intercambio (id, nombre, tipo_intercambio, valores, porcentaje, fecha_actualizacion)\n",
    "        VALUES (%s, %s, %s, %s, %s, %s)\n",
    "        ON DUPLICATE KEY UPDATE\n",
    "        nombre = VALUES(nombre),\n",
    "        tipo_intercambio = VALUES(tipo_intercambio),\n",
    "        valores = VALUES(valores),\n",
    "        porcentaje = VALUES(porcentaje),\n",
    "        fecha_actualizacion = VALUES(fecha_actualizacion)\n",
    "    \"\"\", (row['id'], row['nombre'], row['tipo_intercambio'], row['valores'], row['porcentaje'], row['fecha_actualizacion']))\n",
    "\n",
    "# Confirmar los cambios\n",
    "conn.commit()\n",
    "\n",
    "# Cerrar conexión\n",
    "cursor.close()\n",
    "conn.close()\n",
    "\n",
    "print(\"Datos insertados o actualizados en la tabla 'intercambio' con éxito.\")\n"
   ]
  }
 ],
 "metadata": {
  "kernelspec": {
   "display_name": "Python 3",
   "language": "python",
   "name": "python3"
  },
  "language_info": {
   "codemirror_mode": {
    "name": "ipython",
    "version": 3
   },
   "file_extension": ".py",
   "mimetype": "text/x-python",
   "name": "python",
   "nbconvert_exporter": "python",
   "pygments_lexer": "ipython3",
   "version": "3.12.7"
  }
 },
 "nbformat": 4,
 "nbformat_minor": 2
}
